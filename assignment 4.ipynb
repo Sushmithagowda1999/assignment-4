{
 "cells": [
  {
   "cell_type": "markdown",
   "id": "9c9905d9",
   "metadata": {},
   "source": [
    "### Write a Python program to create a lambda function that adds 25 to a given number passed in as an argument.\n",
    "\n"
   ]
  },
  {
   "cell_type": "code",
   "execution_count": 1,
   "id": "a33021f0",
   "metadata": {},
   "outputs": [
    {
     "name": "stdout",
     "output_type": "stream",
     "text": [
      " enter the number23\n",
      "48\n"
     ]
    }
   ],
   "source": [
    "add= lambda s : s + 25\n",
    "print(add(int(input(' enter the number'))))"
   ]
  },
  {
   "cell_type": "markdown",
   "id": "bc1f2f00",
   "metadata": {},
   "source": [
    "### Write a Python program to triple all numbers of a given list of integers. Use Python map."
   ]
  },
  {
   "cell_type": "code",
   "execution_count": 9,
   "id": "50550ecc",
   "metadata": {},
   "outputs": [
    {
     "name": "stdout",
     "output_type": "stream",
     "text": [
      "enter the list of integer,1 2 3 4 5 6 7\n",
      "[3, 6, 9, 12, 15, 18, 21]\n"
     ]
    }
   ],
   "source": [
    "z = list(map(int,input('enter the list of integer,').split(' ')))\n",
    "s = list(map(lambda x:x*3,z))\n",
    "print(s)"
   ]
  },
  {
   "cell_type": "markdown",
   "id": "492e0b49",
   "metadata": {},
   "source": [
    "### Write a Python program to square the elements of a list using map() function.\n",
    "\n"
   ]
  },
  {
   "cell_type": "code",
   "execution_count": 7,
   "id": "d3052201",
   "metadata": {},
   "outputs": [
    {
     "name": "stdout",
     "output_type": "stream",
     "text": [
      "4 2 5 9\n"
     ]
    },
    {
     "data": {
      "text/plain": [
       "[16, 4, 25, 81]"
      ]
     },
     "execution_count": 7,
     "metadata": {},
     "output_type": "execute_result"
    }
   ],
   "source": [
    "def task(i):\n",
    "    return i*i\n",
    "l=list(map(int,input().split(' ')))\n",
    "list(map(task,l))"
   ]
  },
  {
   "cell_type": "code",
   "execution_count": null,
   "id": "0eef83b2",
   "metadata": {},
   "outputs": [],
   "source": []
  },
  {
   "cell_type": "code",
   "execution_count": null,
   "id": "211d96a7",
   "metadata": {},
   "outputs": [],
   "source": []
  }
 ],
 "metadata": {
  "kernelspec": {
   "display_name": "Python 3",
   "language": "python",
   "name": "python3"
  },
  "language_info": {
   "codemirror_mode": {
    "name": "ipython",
    "version": 3
   },
   "file_extension": ".py",
   "mimetype": "text/x-python",
   "name": "python",
   "nbconvert_exporter": "python",
   "pygments_lexer": "ipython3",
   "version": "3.8.8"
  }
 },
 "nbformat": 4,
 "nbformat_minor": 5
}
